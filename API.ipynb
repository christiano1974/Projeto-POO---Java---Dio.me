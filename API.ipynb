{
  "nbformat": 4,
  "nbformat_minor": 0,
  "metadata": {
    "colab": {
      "provenance": [],
      "authorship_tag": "ABX9TyNOe6pVHRx5IPYsFM+Q3vav",
      "include_colab_link": true
    },
    "kernelspec": {
      "name": "python3",
      "display_name": "Python 3"
    },
    "language_info": {
      "name": "python"
    }
  },
  "cells": [
    {
      "cell_type": "markdown",
      "metadata": {
        "id": "view-in-github",
        "colab_type": "text"
      },
      "source": [
        "<a href=\"https://colab.research.google.com/github/christiano1974/Projeto-POO---Java---Dio.me/blob/main/API.ipynb\" target=\"_parent\"><img src=\"https://colab.research.google.com/assets/colab-badge.svg\" alt=\"Open In Colab\"/></a>"
      ]
    },
    {
      "cell_type": "code",
      "source": [
        "!pip install Flask"
      ],
      "metadata": {
        "colab": {
          "base_uri": "https://localhost:8080/"
        },
        "id": "3XmxCGs-U2kO",
        "outputId": "13fa7949-0083-453d-9e09-7b54c6c6afa8"
      },
      "execution_count": 1,
      "outputs": [
        {
          "output_type": "stream",
          "name": "stdout",
          "text": [
            "Requirement already satisfied: Flask in /usr/local/lib/python3.10/dist-packages (2.2.5)\n",
            "Requirement already satisfied: Werkzeug>=2.2.2 in /usr/local/lib/python3.10/dist-packages (from Flask) (3.0.3)\n",
            "Requirement already satisfied: Jinja2>=3.0 in /usr/local/lib/python3.10/dist-packages (from Flask) (3.1.4)\n",
            "Requirement already satisfied: itsdangerous>=2.0 in /usr/local/lib/python3.10/dist-packages (from Flask) (2.2.0)\n",
            "Requirement already satisfied: click>=8.0 in /usr/local/lib/python3.10/dist-packages (from Flask) (8.1.7)\n",
            "Requirement already satisfied: MarkupSafe>=2.0 in /usr/local/lib/python3.10/dist-packages (from Jinja2>=3.0->Flask) (2.1.5)\n"
          ]
        }
      ]
    },
    {
      "cell_type": "code",
      "source": [
        "import sqlite3"
      ],
      "metadata": {
        "id": "7tym0XHxnPbe"
      },
      "execution_count": null,
      "outputs": []
    },
    {
      "cell_type": "code",
      "source": [
        "conexao = sqlite3.connect(\"bancoDados.db\")\n",
        "cursor=conexao.cursor()\n",
        "cursor.execute('''\n",
        "                   create table categoria(\n",
        "                    id INTEGER PRIMARY KEY AUTOINCREMENT,\n",
        "                    id_atleta INTEGER,\n",
        "                    nome TEXT NOT NULL,\n",
        "                    FOREIGN KEY (id_atleta) REFERENCES users (id))''')\n",
        "cursor.execute('''\n",
        "                   create table atleta(\n",
        "                    id INTEGER PRIMARY KEY AUTOINCREMENT,\n",
        "                    nome TEXT NOT NULL,\n",
        "                    cpf TEXT NOT NULL,\n",
        "                    idade INTEGER,\n",
        "                    peso FLOAT,\n",
        "                    sexo TEXT NOT NULL,\n",
        "                    id_centro INTEGER,\n",
        "                    FOREIGN KEY (id_centro) REFERENCES users (id))''')\n",
        "cursor.execute('''\n",
        "                   create table centroTreinamento(\n",
        "                    id INTEGER,\n",
        "                    nome TEXT NOT NULL,\n",
        "                    endereco TEXT NOT NULL,\n",
        "                    proprietária TEXT NOT NULL)''')\n",
        "conexao.commit()\n",
        "cursor.close()\n",
        "conexao.close()"
      ],
      "metadata": {
        "id": "jRw5gIeSnYba"
      },
      "execution_count": null,
      "outputs": []
    },
    {
      "cell_type": "code",
      "source": [
        "from flask import Flask, request, jsonify\n",
        "import sqlite3\n",
        "\n",
        "app = Flask(__name__)\n",
        "\n",
        "def connect_db():\n",
        "    return sqlite3.connect('bancoDados.db')\n",
        "\n",
        "# CRUD para centroTreinamento\n",
        "@app.route('/centroTreinamento', methods=['POST'])\n",
        "def create_centro():\n",
        "    data = request.get_json()\n",
        "    nome = data['nome']\n",
        "    endereco = data['endereco']\n",
        "    proprietaria = data['proprietaria']\n",
        "\n",
        "    conn = connect_db()\n",
        "    cursor = conn.cursor()\n",
        "    cursor.execute('INSERT INTO centroTreinamento (nome, endereco, proprietaria) VALUES (?, ?, ?)',\n",
        "                   (nome, endereco, proprietaria))\n",
        "    conn.commit()\n",
        "    conn.close()\n",
        "\n",
        "    return jsonify({'message': 'Centro de treinamento criado com sucesso!'}), 201\n",
        "\n",
        "@app.route('/centroTreinamento', methods=['GET'])\n",
        "def get_centros():\n",
        "    conn = connect_db()\n",
        "    cursor = conn.cursor()\n",
        "    cursor.execute('SELECT * FROM centroTreinamento')\n",
        "    centros = cursor.fetchall()\n",
        "    conn.close()\n",
        "\n",
        "    return jsonify(centros)\n",
        "\n",
        "# CRUD para atleta\n",
        "@app.route('/atleta', methods=['POST'])\n",
        "def create_atleta():\n",
        "    data = request.get_json()\n",
        "    nome = data['nome']\n",
        "    cpf = data['cpf']\n",
        "    idade = data['idade']\n",
        "    peso = data['peso']\n",
        "    sexo = data['sexo']\n",
        "    id_centro = data['id_centro']\n",
        "\n",
        "    conn = connect_db()\n",
        "    cursor = conn.cursor()\n",
        "    cursor.execute('INSERT INTO atleta (nome, cpf, idade, peso, sexo, id_centro) VALUES (?, ?, ?, ?, ?, ?)',\n",
        "                   (nome, cpf, idade, peso, sexo, id_centro))\n",
        "    conn.commit()\n",
        "    conn.close()\n",
        "\n",
        "    return jsonify({'message': 'Atleta criado com sucesso!'}), 201\n",
        "\n",
        "@app.route('/atleta', methods=['GET'])\n",
        "def get_atletas():\n",
        "    conn = connect_db()\n",
        "    cursor = conn.cursor()\n",
        "    cursor.execute('SELECT * FROM atleta')\n",
        "    atletas = cursor.fetchall()\n",
        "    conn.close()\n",
        "\n",
        "    return jsonify(atletas)\n",
        "\n",
        "# CRUD para categoria\n",
        "@app.route('/categoria', methods=['POST'])\n",
        "def create_categoria():\n",
        "    data = request.get_json()\n",
        "    id_atleta = data['id_atleta']\n",
        "    nome = data['nome']\n",
        "\n",
        "    conn = connect_db()\n",
        "    cursor = conn.cursor()\n",
        "    cursor.execute('INSERT INTO categoria (id_atleta, nome) VALUES (?, ?)', (id_atleta, nome))\n",
        "    conn.commit()\n",
        "    conn.close()\n",
        "\n",
        "    return jsonify({'message': 'Categoria criada com sucesso!'}), 201\n",
        "\n",
        "@app.route('/categoria', methods=['GET'])\n",
        "def get_categorias():\n",
        "    conn = connect_db()\n",
        "    cursor = conn.cursor()\n",
        "    cursor.execute('SELECT * FROM categoria')\n",
        "    categorias = cursor.fetchall()\n",
        "    conn.close()\n",
        "\n",
        "    return jsonify(categorias)\n",
        "\n",
        "if __name__ == '__main__':\n",
        "    app.run()"
      ],
      "metadata": {
        "id": "bML5DmYNajvL"
      },
      "execution_count": null,
      "outputs": []
    },
    {
      "cell_type": "code",
      "source": [
        "from pyngrok import ngrok\n",
        "\n",
        "# Expor o servidor Flask\n",
        "public_url = ngrok.connect(5000)\n",
        "print(f'Public URL: {public_url}')\n",
        "\n",
        "# Executar o servidor Flask\n",
        "app.run()"
      ],
      "metadata": {
        "id": "J16BZzjdaljD"
      },
      "execution_count": null,
      "outputs": []
    }
  ]
}